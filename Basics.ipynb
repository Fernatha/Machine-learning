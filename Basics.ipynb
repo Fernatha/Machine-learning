{
 "cells": [
  {
   "cell_type": "code",
   "execution_count": 4,
   "source": [
    "is_game_over = False\r\n",
    "print(is_game_over)\r\n",
    "is_game_over = True\r\n",
    "print(is_game_over)\r\n",
    "is_game_over = 5 > 6\r\n",
    "print(is_game_over)\r\n"
   ],
   "outputs": [
    {
     "output_type": "stream",
     "name": "stdout",
     "text": [
      "False\n",
      "True\n",
      "False\n"
     ]
    }
   ],
   "metadata": {}
  },
  {
   "cell_type": "code",
   "execution_count": 7,
   "source": [
    "num_lives = 5\r\n",
    "print(num_lives)\r\n",
    "percent_health = 0.5\r\n",
    "print(percent_health)"
   ],
   "outputs": [
    {
     "output_type": "stream",
     "name": "stdout",
     "text": [
      "5\n",
      "0.5\n"
     ]
    }
   ],
   "metadata": {}
  },
  {
   "cell_type": "code",
   "execution_count": 10,
   "source": [
    "player_name = \"Nathan\"\r\n",
    "print(player_name)\r\n",
    "player_name = \"Ryuokki\"\r\n",
    "print(player_name)\r\n",
    "player_name = 'Fernatha'\r\n",
    "print(player_name)"
   ],
   "outputs": [
    {
     "output_type": "stream",
     "name": "stdout",
     "text": [
      "Nathan\n",
      "Ryuokki\n",
      "Fernatha\n"
     ]
    }
   ],
   "metadata": {}
  },
  {
   "cell_type": "code",
   "execution_count": 12,
   "source": [
    "print(type(is_game_over))\r\n",
    "print(type(num_lives))\r\n",
    "print(type(percent_health))\r\n",
    "print(type(player_name))\r\n",
    "num_lives = \"5\"\r\n",
    "print(type(num_lives))\r\n",
    "\r\n",
    "player_name = num_lives\r\n",
    "print(\"Name: \" + player_name)\r\n"
   ],
   "outputs": [
    {
     "output_type": "stream",
     "name": "stdout",
     "text": [
      "<class 'bool'>\n",
      "<class 'int'>\n",
      "<class 'float'>\n",
      "<class 'str'>\n",
      "<class 'str'>\n",
      "Name: 5\n"
     ]
    }
   ],
   "metadata": {}
  }
 ],
 "metadata": {
  "orig_nbformat": 4,
  "language_info": {
   "name": "python",
   "version": "3.10.2",
   "mimetype": "text/x-python",
   "codemirror_mode": {
    "name": "ipython",
    "version": 3
   },
   "pygments_lexer": "ipython3",
   "nbconvert_exporter": "python",
   "file_extension": ".py"
  },
  "kernelspec": {
   "name": "python3",
   "display_name": "Python 3.10.2 64-bit"
  },
  "interpreter": {
   "hash": "fc58a6da21f295d9e0105d57e090924f5f435f940376376021577fa1037b8bd0"
  }
 },
 "nbformat": 4,
 "nbformat_minor": 2
}