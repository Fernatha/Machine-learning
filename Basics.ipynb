{
 "cells": [
  {
   "cell_type": "code",
   "execution_count": 4,
   "metadata": {},
   "outputs": [
    {
     "name": "stdout",
     "output_type": "stream",
     "text": [
      "False\n",
      "True\n",
      "False\n"
     ]
    }
   ],
   "source": [
    "is_game_over = False\n",
    "print(is_game_over)\n",
    "is_game_over = True\n",
    "print(is_game_over)\n",
    "is_game_over = 5 > 6\n",
    "print(is_game_over)\n"
   ]
  },
  {
   "cell_type": "code",
   "execution_count": 7,
   "metadata": {},
   "outputs": [
    {
     "name": "stdout",
     "output_type": "stream",
     "text": [
      "5\n",
      "0.5\n"
     ]
    }
   ],
   "source": [
    "num_lives = 5\n",
    "print(num_lives)\n",
    "percent_health = 0.5\n",
    "print(percent_health)"
   ]
  },
  {
   "cell_type": "code",
   "execution_count": 10,
   "metadata": {},
   "outputs": [
    {
     "name": "stdout",
     "output_type": "stream",
     "text": [
      "Nathan\n",
      "Ryuokki\n",
      "Fernatha\n"
     ]
    }
   ],
   "source": [
    "player_name = \"Nathan\"\n",
    "print(player_name)\n",
    "player_name = \"Ryuokki\"\n",
    "print(player_name)\n",
    "player_name = 'Fernatha'\n",
    "print(player_name)"
   ]
  },
  {
   "cell_type": "code",
   "execution_count": 12,
   "metadata": {},
   "outputs": [
    {
     "name": "stdout",
     "output_type": "stream",
     "text": [
      "<class 'bool'>\n",
      "<class 'int'>\n",
      "<class 'float'>\n",
      "<class 'str'>\n",
      "<class 'str'>\n",
      "Name: 5\n"
     ]
    }
   ],
   "source": [
    "print(type(is_game_over))\n",
    "print(type(num_lives))\n",
    "print(type(percent_health))\n",
    "print(type(player_name))\n",
    "num_lives = \"5\"\n",
    "print(type(num_lives))\n",
    "\n",
    "player_name = num_lives\n",
    "print(\"Name: \" + player_name)\n"
   ]
  },
  {
   "cell_type": "code",
   "execution_count": 2,
   "metadata": {},
   "outputs": [
    {
     "name": "stdout",
     "output_type": "stream",
     "text": [
      "False\n",
      "True\n",
      "True\n",
      "True\n",
      "True\n"
     ]
    }
   ],
   "source": [
    "print(bool(0))\n",
    "print(bool(1))\n",
    "print(bool(2))\n",
    "print(bool(0.1))\n",
    "print(bool(\"Meep\"))\n",
    "print(bool(\"False\"))"
   ]
  },
  {
   "cell_type": "code",
   "execution_count": 5,
   "metadata": {},
   "outputs": [
    {
     "name": "stdout",
     "output_type": "stream",
     "text": [
      "1\n",
      "0\n",
      "1\n"
     ]
    }
   ],
   "source": [
    "#print(int(\"asdasD\"))\n",
    "print(int(\"1\"))\n",
    "print(int(0.5))\n",
    "print(int(True))"
   ]
  },
  {
   "cell_type": "code",
   "execution_count": 6,
   "metadata": {},
   "outputs": [
    {
     "name": "stdout",
     "output_type": "stream",
     "text": [
      "1.0\n"
     ]
    }
   ],
   "source": [
    "print(float(1))\n",
    "print(float(\"7\"))\n",
    "print(float(True))\n",
    "print(float(False))"
   ]
  },
  {
   "cell_type": "code",
   "execution_count": 25,
   "metadata": {},
   "outputs": [
    {
     "name": "stdout",
     "output_type": "stream",
     "text": [
      "['Sword', 'Shield', 'Helmet']\n",
      "['Spear', 'Shield', 'Helmet']\n",
      "3\n",
      "Spear\n",
      "Helmet\n",
      "['Spear', 'Shield', 'Helmet', 'Sword']\n",
      "['Chicken', 'Spear', 'Shield', 'Helmet', 'Sword']\n",
      "['Chicken', 'Spear', 'Shield', 'Helmet']\n",
      "['Spear', 'Shield', 'Helmet']\n",
      "[]\n"
     ]
    }
   ],
   "source": [
    "#Lists example\n",
    "inventory = ['Sword','Shield','Helmet']\n",
    "sword = inventory[0]\n",
    "print(inventory)\n",
    "inventory[0] = 'Spear'\n",
    "print(inventory)\n",
    "\n",
    "print(len(inventory))\n",
    "print(max(inventory))\n",
    "print(min(inventory))\n",
    "\n",
    "inventory.append(sword)\n",
    "print(inventory)\n",
    "inventory.insert(0,'Chicken')\n",
    "print(inventory)\n",
    "inventory.pop()\n",
    "print(inventory)\n",
    "inventory.remove('Chicken')\n",
    "print(inventory)\n",
    "inventory.clear()\n",
    "print(inventory)"
   ]
  },
  {
   "cell_type": "code",
   "execution_count": 30,
   "metadata": {},
   "outputs": [
    {
     "name": "stdout",
     "output_type": "stream",
     "text": [
      "2\n",
      "[[1, 2, 3], [1, 2, 3, 4], [1, 2], [1, 2, 3], [1, 2, 3, 4, 5]]\n",
      "[[1, 2, 3], [1, 2, 3], [1, 2], [1, 2, 3], [1, 2, 3, 4, 5]]\n"
     ]
    }
   ],
   "source": [
    "#Matrix example\n",
    "universe = [\n",
    "        [1,2,3],\n",
    "        [1,2,3,4],\n",
    "        [1,2],\n",
    "        [1,2,3]\n",
    "        ]\n",
    "ninth_world = universe[2][1]\n",
    "print(ninth_world)\n",
    "universe.append([1,2,3,4,5])\n",
    "print(universe)\n",
    "universe[1].pop()\n",
    "print(universe)\n"
   ]
  },
  {
   "cell_type": "code",
   "execution_count": 6,
   "metadata": {},
   "outputs": [
    {
     "name": "stdout",
     "output_type": "stream",
     "text": [
      "Poket Watch\n",
      "('Knoife', 10)\n",
      "1\n",
      "1\n",
      "4\n",
      "3\n",
      "1\n"
     ]
    }
   ],
   "source": [
    "#Tuples Example\n",
    "item = (\"Poket Watch\", 1)\n",
    "name = item[0]\n",
    "print(name)\n",
    "#item[1]=10\n",
    "item = (\"Knoife\", 10)\n",
    "print(item)\n",
    "print(item.count(\"Knoife\"))\n",
    "print(item.index(10))\n",
    "\n",
    "item = (1,2,3,2)\n",
    "print(len(item))\n",
    "print(max(item))\n",
    "print(min(item))\n"
   ]
  }
 ],
 "metadata": {
  "kernelspec": {
   "display_name": "Python 3",
   "language": "python",
   "name": "python3"
  },
  "language_info": {
   "codemirror_mode": {
    "name": "ipython",
    "version": 3
   },
   "file_extension": ".py",
   "mimetype": "text/x-python",
   "name": "python",
   "nbconvert_exporter": "python",
   "pygments_lexer": "ipython3",
   "version": "3.10.2"
  },
  "orig_nbformat": 4,
  "vscode": {
   "interpreter": {
    "hash": "efd76b473b6c661ee0748a2a7b83c7d0432fab1f468dae9e6c23cd7baf508b3d"
   }
  }
 },
 "nbformat": 4,
 "nbformat_minor": 2
}
